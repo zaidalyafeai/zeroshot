{
 "cells": [
  {
   "cell_type": "code",
   "execution_count": 1,
   "metadata": {},
   "outputs": [],
   "source": [
    "results_qa =\\\n",
    "{'de': [\n",
    "        30.252100840336134,\n",
    "        45.989394899169326,\n",
    "        30.252100840336134,\n",
    "        45.913336247643876\n",
    "    ],\n",
    " 'zh': [\n",
    "        40.33613445378151,\n",
    "        51.0284113645458,\n",
    "        28.571428571428573,\n",
    "        42.1008510356014\n",
    "    ],\n",
    " 'vi': [\n",
    "        34.45378151260504,\n",
    "        51.25430857422065,\n",
    "        25.210084033613445,\n",
    "        40.80365601191323\n",
    "    ],\n",
    " 'es': [\n",
    "        41.1764705882353,\n",
    "        56.03152260492843,\n",
    "        28.571428571428573,\n",
    "        40.79627188870885\n",
    "    ],\n",
    " 'hi': [\n",
    "        26.89075630252101,\n",
    "        36.69037311894454,\n",
    "        24.369747899159663,\n",
    "        37.88745801350843\n",
    "    ],\n",
    " 'el': [\n",
    "        34.45378151260504,\n",
    "        46.99606428266312,\n",
    "        31.092436974789916,\n",
    "        43.164457072241234\n",
    "    ],\n",
    " 'th': [\n",
    "        40.33613445378151,\n",
    "        46.61864745898359,\n",
    "        24.369747899159663,\n",
    "        36.319848759034954\n",
    "    ],\n",
    " 'ro': [\n",
    "        40.33613445378151,\n",
    "        52.36978433221635,\n",
    "        31.932773109243698,\n",
    "        46.79638426054639\n",
    "    ],\n",
    " 'ar': [\n",
    "        36.97478991596638,\n",
    "        51.562463186289165,\n",
    "        36.97478991596638,\n",
    "        51.562463186289165\n",
    "    ],\n",
    " 'en': [\n",
    "        43.69747899159664,\n",
    "        57.10433239523698,\n",
    "        31.932773109243698,\n",
    "        46.233109999793136\n",
    "    ],\n",
    " 'ru': [\n",
    "        41.1764705882353,\n",
    "        55.81292656922909,\n",
    "        36.134453781512605,\n",
    "        48.95297183730203\n",
    "    ],\n",
    " 'tr': [\n",
    "        31.092436974789916,\n",
    "        40.205015092558334,\n",
    "        25.210084033613445,\n",
    "        38.218620781645996\n",
    "    ]\n",
    "}"
   ]
  },
  {
   "cell_type": "code",
   "execution_count": 2,
   "metadata": {},
   "outputs": [],
   "source": [
    "results_ner = {'af': [0.9123870021988761,\n",
    "  0.6964598668068699,\n",
    "  0.7352504997098459,\n",
    "  0.24298652529268835],\n",
    " 'am': [0.7360819651894828,\n",
    "  0.03768506056527591,\n",
    "  0.7237732929266877,\n",
    "  0.0063135741844966686],\n",
    " 'ar': [0.8807789025726998,\n",
    "  0.6582369942196532,\n",
    "  0.8807789025726998,\n",
    "  0.6582369942196532],\n",
    " 'az': [0.895764888596858,\n",
    "  0.6945812807881775,\n",
    "  0.7373782964730157,\n",
    "  0.18665276329509906],\n",
    " 'bn': [0.8926981300089047,\n",
    "  0.6505289582212659,\n",
    "  0.7450512605583854,\n",
    "  0.19898218829516542],\n",
    " 'cy': [0.896936063050879,\n",
    "  0.6348707197763801,\n",
    "  0.7317041717712296,\n",
    "  0.16666666666666666],\n",
    " 'da': [0.9185158239359767,\n",
    "  0.7298940420357826,\n",
    "  0.7340898832935715,\n",
    "  0.23554882009092878],\n",
    " 'de': [0.9140359897172237,\n",
    "  0.7019614650234334,\n",
    "  0.7442775162808691,\n",
    "  0.29144710174300764],\n",
    " 'el': [0.9058416227813536,\n",
    "  0.690442726633872,\n",
    "  0.7521439164356181,\n",
    "  0.265817223198594],\n",
    " 'en': [0.9242371962340415,\n",
    "  0.7439129683992401,\n",
    "  0.7393126571668064,\n",
    "  0.27948504983388706],\n",
    " 'es': [0.8951403018975063,\n",
    "  0.6682142857142856,\n",
    "  0.752272873815204,\n",
    "  0.2947048611111111],\n",
    " 'fa': [0.9187963726298434,\n",
    "  0.7112280701754385,\n",
    "  0.7720033528918693,\n",
    "  0.3075829383886256],\n",
    " 'fi': [0.8903302713694692,\n",
    "  0.691954834156669,\n",
    "  0.7457605261461087,\n",
    "  0.22237665045170257],\n",
    " 'fr': [0.9053044112285819,\n",
    "  0.68692681172451,\n",
    "  0.7319620865304017,\n",
    "  0.23976475910427505],\n",
    " 'he': [0.8853880186535932,\n",
    "  0.6555987283645355,\n",
    "  0.7721967889612483,\n",
    "  0.3557804593226936],\n",
    " 'hi': [0.9082834954922788,\n",
    "  0.6517482517482517,\n",
    "  0.7517570442968599,\n",
    "  0.22745490981963928],\n",
    " 'hu': [0.8984512495600141,\n",
    "  0.6889632107023411,\n",
    "  0.7389257850280482,\n",
    "  0.2259937472085753],\n",
    " 'hy': [0.890255496137849,\n",
    "  0.6569190600522193,\n",
    "  0.732800309497711,\n",
    "  0.19326768948935197],\n",
    " 'id': [0.8951665224913494,\n",
    "  0.6834917891097666,\n",
    "  0.7567219034109227,\n",
    "  0.25766283524904215],\n",
    " 'is': [0.9016700567391072,\n",
    "  0.6829008176324209,\n",
    "  0.733058224256883,\n",
    "  0.2090803259604191],\n",
    " 'it': [0.898243271008835,\n",
    "  0.6852300242130751,\n",
    "  0.7440196015216971,\n",
    "  0.30063041765169424],\n",
    " 'ja': [0.9155206286836935,\n",
    "  0.8493150684931507,\n",
    "  0.7185505190534528,\n",
    "  0.18435438265786994],\n",
    " 'jv': [0.8907986111111111,\n",
    "  0.6676066267183646,\n",
    "  0.7476304081501064,\n",
    "  0.23215898825654924],\n",
    " 'ka': [0.8648231113857562,\n",
    "  0.6604684426962273,\n",
    "  0.7395060932361854,\n",
    "  0.1921612541993281],\n",
    " 'km': [0.6888033365415464,\n",
    "  0.03034682080924855,\n",
    "  0.6918563414791411,\n",
    "  0.009415674328440876],\n",
    " 'kn': [0.8687799949482192,\n",
    "  0.6214402321784872,\n",
    "  0.7243536011348249,\n",
    "  0.12496863237139273],\n",
    " 'ko': [0.8929467521605798,\n",
    "  0.6829268292682927,\n",
    "  0.7325423947385389,\n",
    "  0.1284796573875803],\n",
    " 'lv': [0.893647310042114,\n",
    "  0.6818974537844437,\n",
    "  0.7315107357018505,\n",
    "  0.20685111989459815],\n",
    " 'ml': [0.8822003113648158,\n",
    "  0.6538392375472036,\n",
    "  0.7221613256818622,\n",
    "  0.12899949212798376],\n",
    " 'mn': [0.8784903518728717,\n",
    "  0.620347394540943,\n",
    "  0.7244180798246179,\n",
    "  0.056338028169014086],\n",
    " 'ms': [0.9003658730579565,\n",
    "  0.6944978165938864,\n",
    "  0.7487265458765878,\n",
    "  0.25692454632282713],\n",
    " 'my': [0.9153327716933446, 0.7644620652369796, 0.7302211619059901, 0.08125],\n",
    " 'nb': [0.914841596004786,\n",
    "  0.7087361574969239,\n",
    "  0.7519504803662389,\n",
    "  0.26300768386388584],\n",
    " 'nl': [0.9159542791278455,\n",
    "  0.7090653548840478,\n",
    "  0.752014959056032,\n",
    "  0.26040947780078216],\n",
    " 'pl': [0.8845749649696404,\n",
    "  0.6548398208749568,\n",
    "  0.7251918241021342,\n",
    "  0.25844594594594594],\n",
    " 'pt': [0.9031583946805984,\n",
    "  0.6918413303308505,\n",
    "  0.7538203623702366,\n",
    "  0.28596224777609025],\n",
    " 'ro': [0.8923931319101238,\n",
    "  0.6723163841807909,\n",
    "  0.7569798181700947,\n",
    "  0.29142236699239954],\n",
    " 'ru': [0.8976897689768977,\n",
    "  0.6970809299073588,\n",
    "  0.7495647688438971,\n",
    "  0.2482285714285714],\n",
    " 'sl': [0.8914728682170543,\n",
    "  0.6792319887264401,\n",
    "  0.7394416145463925,\n",
    "  0.23692775005424171],\n",
    " 'sq': [0.9020252561353348,\n",
    "  0.6685140284031866,\n",
    "  0.7572377329292669,\n",
    "  0.24843858431644691],\n",
    " 'sv': [0.9150390099542642,\n",
    "  0.7242222998951415,\n",
    "  0.7413114965503901,\n",
    "  0.25313174946004324],\n",
    " 'sw': [0.871528692627918,\n",
    "  0.6293532338308457,\n",
    "  0.7308659488039203,\n",
    "  0.1369218709171675],\n",
    " 'ta': [0.8740812379110251,\n",
    "  0.6459074733096085,\n",
    "  0.746727706493004,\n",
    "  0.18886930244270966],\n",
    " 'te': [0.8779890353435204,\n",
    "  0.6263677130044842,\n",
    "  0.732606873428332,\n",
    "  0.13163716814159293],\n",
    " 'th': [0.9188806950196989,\n",
    "  0.8076070901033974,\n",
    "  0.7451802179379715,\n",
    "  0.17933810375670842],\n",
    " 'tl': [0.8956668250745237,\n",
    "  0.6404262633207288,\n",
    "  0.7484686311174157,\n",
    "  0.18428320361536532],\n",
    " 'tr': [0.8845821503518084,\n",
    "  0.6566954073552701,\n",
    "  0.7043652072989877,\n",
    "  0.11719745222929935],\n",
    " 'ur': [0.8972298221614227,\n",
    "  0.6129032258064515,\n",
    "  0.741182539170804,\n",
    "  0.19245573518090842],\n",
    " 'vi': [0.8951594402385868,\n",
    "  0.6486297783208239,\n",
    "  0.7461473982848669,\n",
    "  0.23065693430656936],\n",
    " 'zh': [0.9152639907926917,\n",
    "  0.856015037593985,\n",
    "  0.6717389902637179,\n",
    "  0.17406290392072382]}"
   ]
  },
  {
   "cell_type": "code",
   "execution_count": 3,
   "metadata": {},
   "outputs": [],
   "source": [
    "results_nli_50k = {'ar': [0.6395209580838324, 0.6395209580838324],\n",
    " 'bg': [0.693812375249501, 0.6347305389221557],\n",
    " 'de': [0.7005988023952096, 0.639121756487026],\n",
    " 'el': [0.6764471057884232, 0.6311377245508982],\n",
    " 'en': [0.7622754491017965, 0.6409181636726546],\n",
    " 'es': [0.7163672654690619, 0.6327345309381237],\n",
    " 'fr': [0.7085828343313373, 0.6279441117764472],\n",
    " 'hi': [0.6325349301397205, 0.6163672654690618],\n",
    " 'ru': [0.687624750499002, 0.640119760479042],\n",
    " 'sw': [0.589620758483034, 0.5706586826347305],\n",
    " 'th': [0.590818363273453, 0.5502994011976048],\n",
    " 'tr': [0.656686626746507, 0.6093812375249501],\n",
    " 'ur': [0.5770459081836328, 0.5437125748502994],\n",
    " 'vi': [0.6970059880239521, 0.6311377245508982],\n",
    " 'zh': [0.7079840319361277, 0.6353293413173653]}"
   ]
  },
  {
   "cell_type": "code",
   "execution_count": 4,
   "metadata": {},
   "outputs": [],
   "source": [
    "results_ner_20k = {'ar': [0.6076305220883534, 0.6076305220883534],\n",
    " 'bg': [0.655421686746988, 0.6104417670682731],\n",
    " 'de': [0.6734939759036145, 0.6012048192771084],\n",
    " 'el': [0.6441767068273092, 0.6096385542168675],\n",
    " 'en': [0.7257028112449799, 0.5943775100401606],\n",
    " 'es': [0.6847389558232931, 0.6088353413654618],\n",
    " 'fr': [0.6734939759036145, 0.6136546184738956],\n",
    " 'hi': [0.5863453815261044, 0.5899598393574297],\n",
    " 'ru': [0.642570281124498, 0.6196787148594377],\n",
    " 'sw': [0.563855421686747, 0.5116465863453815],\n",
    " 'th': [0.5566265060240964, 0.4831325301204819],\n",
    " 'tr': [0.62570281124498, 0.5947791164658635],\n",
    " 'ur': [0.5477911646586345, 0.5654618473895582],\n",
    " 'vi': [0.6710843373493975, 0.6156626506024097],\n",
    " 'zh': [0.6646586345381527, 0.6160642570281124]}"
   ]
  },
  {
   "cell_type": "code",
   "execution_count": 5,
   "metadata": {},
   "outputs": [],
   "source": [
    "results_nli_10k = {'ar': [0.5883534136546185, 0.5883534136546185],\n",
    " 'bg': [0.6433734939759036, 0.593574297188755],\n",
    " 'de': [0.6485943775100401, 0.5931726907630522],\n",
    " 'el': [0.6244979919678715, 0.6052208835341365],\n",
    " 'en': [0.6995983935742972, 0.5911646586345382],\n",
    " 'es': [0.6558232931726907, 0.5903614457831325],\n",
    " 'fr': [0.6574297188755021, 0.6004016064257028],\n",
    " 'hi': [0.5943775100401606, 0.5927710843373494],\n",
    " 'ru': [0.62570281124498, 0.5955823293172691],\n",
    " 'sw': [0.5437751004016064, 0.5188755020080321],\n",
    " 'th': [0.5397590361445783, 0.5040160642570282],\n",
    " 'tr': [0.6004016064257028, 0.5975903614457831],\n",
    " 'ur': [0.5176706827309236, 0.5377510040160642],\n",
    " 'vi': [0.6269076305220883, 0.5831325301204819],\n",
    " 'zh': [0.636144578313253, 0.5995983935742972]}"
   ]
  },
  {
   "cell_type": "code",
   "execution_count": 6,
   "metadata": {},
   "outputs": [],
   "source": [
    "def get_df(results, task = 'qa'):\n",
    "    data = []\n",
    "    for lang in results:\n",
    "        if lang == 'ar':\n",
    "            if task == 'nli':\n",
    "                results_ar = results[lang][1:2]\n",
    "            else:\n",
    "                results_ar = results[lang][2:4]\n",
    "            continue\n",
    "        if task == 'qa':\n",
    "            data.append([lang, 'EM', results[lang][2], results[lang][0]])\n",
    "            data.append([lang, 'F1', results[lang][3], results[lang][1]])\n",
    "        if task == 'ner':\n",
    "            data.append([lang, 'Accuracy', results[lang][2], results[lang][0]])\n",
    "            data.append([lang, 'F1', results[lang][3], results[lang][1]])\n",
    "        if task == 'nli':\n",
    "            data.append([lang, 'Accuracy', results[lang][1], results[lang][0]])\n",
    "\n",
    "    import pandas as pd \n",
    "    df = pd.DataFrame(data)\n",
    "    df.columns = ['Language', 'Metric', 'Value', 'oValue']\n",
    "    return df, results_ar"
   ]
  },
  {
   "cell_type": "code",
   "execution_count": 7,
   "metadata": {},
   "outputs": [
    {
     "name": "stdout",
     "output_type": "stream",
     "text": [
      "mkdir: cannot create directory ‘figures’: File exists\n"
     ]
    }
   ],
   "source": [
    "!mkdir figures"
   ]
  },
  {
   "cell_type": "code",
   "execution_count": 43,
   "metadata": {},
   "outputs": [],
   "source": [
    "def plot(df, results_ar, task = 'qa', switch_c = False, width = 12):\n",
    "    x = 'Language'\n",
    "    y = 'Value'\n",
    "    z = 'Metric'\n",
    "    import seaborn as sns\n",
    "    import matplotlib.pyplot as plt\n",
    "    palette = sns.color_palette(\"Paired\", 3)\n",
    "    plt.figure(figsize=(15,8))\n",
    "    if switch_c:\n",
    "        palette = [palette[-2], palette[0]]\n",
    "\n",
    "    sns.set_context(\"notebook\", font_scale=1.2, rc={\"lines.linewidth\": 1.5})\n",
    "    g = sns.catplot(x=x, y=y, hue=z, data=df, kind='bar',palette=palette) # hue_order=['Seg-BPE','MaT-BPE','BPE'])\n",
    "    g.fig.set_figwidth(width)\n",
    "    g.fig.set_figheight(8)\n",
    "    if task == 'ner':\n",
    "        g.set_xticklabels(rotation=90)\n",
    "    num_langs = len(df['Language'].unique())\n",
    "    if task == 'qa':\n",
    "        plt.plot(range(0,num_langs), [results_ar[0]]*num_langs, '--', c=palette[0])\n",
    "        plt.plot(range(0,num_langs), [results_ar[1]]*num_langs, '--', c=palette[1])\n",
    "        plt.text(x = num_langs, y=results_ar[0], s='EM baseline for Arabic', c = 'black')\n",
    "        plt.text(x = num_langs, y=results_ar[1], s='F1 baseline for Arabic', c = 'black')\n",
    "    elif task == 'ner':\n",
    "        plt.plot(range(0,num_langs), [results_ar[0]]*num_langs, '--', c=palette[0])\n",
    "        plt.plot(range(0,num_langs), [results_ar[1]]*num_langs, '--', c=palette[1])\n",
    "        plt.text(x = num_langs, y=results_ar[0], s='Accuracy baseline for Arabic', c = 'black')\n",
    "        plt.text(x = num_langs, y=results_ar[1], s='F1 baseline for Arabic', c = 'black')\n",
    "    elif task == 'nli':\n",
    "        plt.plot(range(0,num_langs), [results_ar[0]]*num_langs, '--', c=palette[0])\n",
    "        plt.text(x = num_langs, y=results_ar[0], s='Accuracy baseline for Arabic', c = 'black')\n",
    "    plt.savefig(f\"figures/{task}.png\")\n",
    "    plt.show()"
   ]
  },
  {
   "cell_type": "code",
   "execution_count": 44,
   "metadata": {},
   "outputs": [
    {
     "data": {
      "text/plain": [
       "<Figure size 1080x576 with 0 Axes>"
      ]
     },
     "metadata": {},
     "output_type": "display_data"
    },
    {
     "data": {
      "image/png": "[encoded data removed]",
      "text/plain": [
       "<Figure size 864x576 with 1 Axes>"
      ]
     },
     "metadata": {
      "needs_background": "light"
     },
     "output_type": "display_data"
    }
   ],
   "source": [
    "df, results_ar = get_df(results_qa, task = 'qa')\n",
    "plot(df, results_ar, task = 'qa')"
   ]
  },
  {
   "cell_type": "code",
   "execution_count": 45,
   "metadata": {},
   "outputs": [
    {
     "data": {
      "text/plain": [
       "<Figure size 1080x576 with 0 Axes>"
      ]
     },
     "metadata": {},
     "output_type": "display_data"
    },
    {
     "data": {
      "image/png": "[encoded data removed]",
      "text/plain": [
       "<Figure size 1152x576 with 1 Axes>"
      ]
     },
     "metadata": {
      "needs_background": "light"
     },
     "output_type": "display_data"
    }
   ],
   "source": [
    "df, results_ar = get_df(results_ner, task = 'ner')\n",
    "plot(df, results_ar, task = 'ner', switch_c=True, width = 16)"
   ]
  },
  {
   "cell_type": "code",
   "execution_count": 40,
   "metadata": {},
   "outputs": [
    {
     "name": "stdout",
     "output_type": "stream",
     "text": [
      "[0.6395209580838324]\n"
     ]
    },
    {
     "data": {
      "text/plain": [
       "<Figure size 1080x576 with 0 Axes>"
      ]
     },
     "metadata": {},
     "output_type": "display_data"
    },
    {
     "data": {
      "image/png": "[encoded data removed]",
      "text/plain": [
       "<Figure size 1008x576 with 1 Axes>"
      ]
     },
     "metadata": {
      "needs_background": "light"
     },
     "output_type": "display_data"
    }
   ],
   "source": [
    "df, results_ar = get_df(results_nli_50k, task = 'nli')\n",
    "print(results_ar)\n",
    "plot(df, results_ar, width = 14, task = 'nli', switch_c=True)"
   ]
  },
  {
   "cell_type": "code",
   "execution_count": null,
   "metadata": {},
   "outputs": [],
   "source": []
  }
 ],
 "metadata": {
  "kernelspec": {
   "display_name": "Python 3",
   "language": "python",
   "name": "python3"
  },
  "language_info": {
   "codemirror_mode": {
    "name": "ipython",
    "version": 3
   },
   "file_extension": ".py",
   "mimetype": "text/x-python",
   "name": "python",
   "nbconvert_exporter": "python",
   "pygments_lexer": "ipython3",
   "version": "3.8.10"
  },
  "orig_nbformat": 4,
  "vscode": {
   "interpreter": {
    "hash": "5b3ded1ccb95c1d9bd405e7b823d9e85424cde40fbb5985eb47e999ef50e15b4"
   }
  }
 },
 "nbformat": 4,
 "nbformat_minor": 2
}
